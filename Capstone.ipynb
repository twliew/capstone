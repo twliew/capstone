{
 "cells": [
  {
   "cell_type": "markdown",
   "id": "2ab2588f",
   "metadata": {},
   "source": [
    "### Scoring Algorithm"
   ]
  },
  {
   "cell_type": "code",
   "execution_count": null,
   "id": "d5a1283a",
   "metadata": {},
   "outputs": [],
   "source": [
    "import pandas as pd\n",
    "\n",
    "try:\n",
    "    ### Import applicant data\n",
    "    df = pd.read_csv('applicants.csv')\n",
    "\n",
    "    ### Number of volunteers needed to select\n",
    "    N = 5\n",
    "\n",
    "    #Clean column names\n",
    "    df.columns = df.columns.str.strip()\n",
    "\n",
    "    #Copy for scoring\n",
    "    df_score = df.copy()\n",
    "\n",
    "    #Transform binary columns for scoring\n",
    "    df_score['Past Volunteer (score)'] = df_score['Past Volunteer'].map({'Yes': 2, 'No': 0})\n",
    "    df_score['Past Camper (score)'] = df_score['Past Camper'].map({'Yes': 1, 'No': 0})\n",
    "\n",
    "    #Add count columns (keep raw columns intact)\n",
    "    df_score['Course Count'] = df_score['Courses'].apply(lambda x: len(str(x).split(';')))\n",
    "    df_score['Technical Skill Count'] = df_score['Technical Skills'].apply(lambda x: len(str(x).split(';')))\n",
    "\n",
    "    #Map experience columns\n",
    "    experience_map = {'0 hrs': 0, '1-9 hrs': 1, '10-20 hrs': 2, '20+ hrs': 3}\n",
    "    df_score['Youth Experience (score)'] = df_score['Youth Experience'].map(experience_map)\n",
    "    df_score['Leadership Experience (score)'] = df_score['Leadership Experience'].map(experience_map)\n",
    "\n",
    "    #Calculate score based on counts and scoring columns\n",
    "    df_score['Score'] = (\n",
    "        df_score['Past Volunteer (score)'] +\n",
    "        df_score['Past Camper (score)'] +\n",
    "        df_score['Course Count'] +\n",
    "        df_score['Technical Skill Count'] +\n",
    "        df_score['Youth Experience (score)'] +\n",
    "        df_score['Leadership Experience (score)']\n",
    "    )\n",
    "\n",
    "    #Sort by score and assign rank\n",
    "    df_score = df_score.sort_values(by='Score', ascending=False).reset_index(drop=True)\n",
    "    df_score.insert(0, 'Rank', df_score.index + 1)\n",
    "\n",
    "    #Top N scorers\n",
    "    df_score_top = df_score.head(N)\n",
    "\n",
    "    #Save outputs\n",
    "    df_score_top.to_csv(\"transformed_with_score.csv\", index=False)\n",
    "except:\n",
    "    print('Something went wrong. Please check the input file and try again.')\n"
   ]
  },
  {
   "cell_type": "markdown",
   "id": "e7c4c532",
   "metadata": {},
   "source": [
    "### Scheduling Optimization"
   ]
  },
  {
   "cell_type": "code",
   "execution_count": null,
   "id": "9adf3c79",
   "metadata": {},
   "outputs": [],
   "source": [
    "import gurobipy as gp\n",
    "from gurobipy import GRB\n",
    "\n",
    "raw_schedule = pd.read_csv('raw_schedule.csv')\n"
   ]
  }
 ],
 "metadata": {
  "kernelspec": {
   "display_name": ".venv",
   "language": "python",
   "name": "python3"
  },
  "language_info": {
   "codemirror_mode": {
    "name": "ipython",
    "version": 3
   },
   "file_extension": ".py",
   "mimetype": "text/x-python",
   "name": "python",
   "nbconvert_exporter": "python",
   "pygments_lexer": "ipython3",
   "version": "3.12.10"
  }
 },
 "nbformat": 4,
 "nbformat_minor": 5
}
